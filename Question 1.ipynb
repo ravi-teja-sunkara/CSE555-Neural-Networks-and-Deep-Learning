{
 "cells": [
  {
   "cell_type": "markdown",
   "metadata": {},
   "source": [
    "# Question 1\n",
    " Demonstrate that a neural network to maximize the log likelihood of label is one that has softmax output nodes and minimizes the criterion function of the negative log probability of training data set"
   ]
  },
  {
   "cell_type": "markdown",
   "metadata": {},
   "source": [
    "• Output is a single target variable t that can take any real value\n",
    "\n",
    "• Assuming t is Gaussian distributed with an x-dependent mean\n",
    "\n",
    "$ {\\text{p(t|x,w) = N(t|y(x,w), }} \\beta ^-1 \\text{)} $"
   ]
  },
  {
   "cell_type": "markdown",
   "metadata": {},
   "source": [
    "• Likelihood function\n",
    "\n",
    "$ {\\text{p(t|x,w,)}}\\beta \\text{) = } \\pi_{n=1}^N \\text{N(} \\text{t}_n \\text{|y(} \\text{x}_n \\text{,w),} \\beta ^-1 \\text{)} $"
   ]
  },
  {
   "cell_type": "markdown",
   "metadata": {},
   "source": [
    "• The error function which is minimized to learn parameters w and $\\beta$\n",
    "\n",
    "$ \\frac {\\beta}{2} \\sum_{n=1}^N \\text{y((} \\text{x}_n \\text{,w) - } \\text{t}_n \\text{)}^2 \\text{-} \\frac {N}{2} \\log \\beta \\text{+} \\frac {N}{2} \\log \\text{(2} \\pi \\text{)} $"
   ]
  },
  {
   "cell_type": "markdown",
   "metadata": {},
   "source": [
    "• Maximizing likelihood is same as minimizing sum-of-squares\n",
    "\n",
    "$\n",
    "E(w) = \\frac {1}{2} \\sum_{n=1}^N \\text{y((} \\text{x}_n \\text{,w) - }\\text{t}_n \\text{)}^2\n",
    "$"
   ]
  }
 ],
 "metadata": {
  "kernelspec": {
   "display_name": "Python 3",
   "language": "python",
   "name": "python3"
  },
  "language_info": {
   "codemirror_mode": {
    "name": "ipython",
    "version": 3
   },
   "file_extension": ".py",
   "mimetype": "text/x-python",
   "name": "python",
   "nbconvert_exporter": "python",
   "pygments_lexer": "ipython3",
   "version": "3.6.5"
  }
 },
 "nbformat": 4,
 "nbformat_minor": 2
}
